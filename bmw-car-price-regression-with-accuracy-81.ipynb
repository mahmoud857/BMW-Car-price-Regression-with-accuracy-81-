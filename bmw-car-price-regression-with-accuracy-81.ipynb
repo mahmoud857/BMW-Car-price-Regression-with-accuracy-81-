{
 "cells": [
  {
   "cell_type": "code",
   "execution_count": 1,
   "id": "64176896",
   "metadata": {
    "execution": {
     "iopub.execute_input": "2021-08-28T20:12:50.616328Z",
     "iopub.status.busy": "2021-08-28T20:12:50.615602Z",
     "iopub.status.idle": "2021-08-28T20:12:51.920091Z",
     "shell.execute_reply": "2021-08-28T20:12:51.918758Z",
     "shell.execute_reply.started": "2021-08-28T20:04:09.669761Z"
    },
    "papermill": {
     "duration": 1.337195,
     "end_time": "2021-08-28T20:12:51.920324",
     "exception": false,
     "start_time": "2021-08-28T20:12:50.583129",
     "status": "completed"
    },
    "tags": []
   },
   "outputs": [],
   "source": [
    "import pandas as pd\n",
    "import numpy as np\n",
    "from sklearn.preprocessing import LabelEncoder\n",
    "from sklearn.preprocessing import MinMaxScaler\n",
    "from sklearn.model_selection import train_test_split\n",
    "from sklearn.tree import DecisionTreeRegressor\n",
    "from sklearn.ensemble import RandomForestRegressor\n",
    "from sklearn.metrics import mean_squared_error"
   ]
  },
  {
   "cell_type": "code",
   "execution_count": 2,
   "id": "86cd8af4",
   "metadata": {
    "execution": {
     "iopub.execute_input": "2021-08-28T20:12:51.965369Z",
     "iopub.status.busy": "2021-08-28T20:12:51.964643Z",
     "iopub.status.idle": "2021-08-28T20:12:52.041467Z",
     "shell.execute_reply": "2021-08-28T20:12:52.040821Z",
     "shell.execute_reply.started": "2021-08-28T20:03:15.523240Z"
    },
    "papermill": {
     "duration": 0.101305,
     "end_time": "2021-08-28T20:12:52.041610",
     "exception": false,
     "start_time": "2021-08-28T20:12:51.940305",
     "status": "completed"
    },
    "tags": []
   },
   "outputs": [
    {
     "data": {
      "text/html": [
       "<div>\n",
       "<style scoped>\n",
       "    .dataframe tbody tr th:only-of-type {\n",
       "        vertical-align: middle;\n",
       "    }\n",
       "\n",
       "    .dataframe tbody tr th {\n",
       "        vertical-align: top;\n",
       "    }\n",
       "\n",
       "    .dataframe thead th {\n",
       "        text-align: right;\n",
       "    }\n",
       "</style>\n",
       "<table border=\"1\" class=\"dataframe\">\n",
       "  <thead>\n",
       "    <tr style=\"text-align: right;\">\n",
       "      <th></th>\n",
       "      <th>model</th>\n",
       "      <th>year</th>\n",
       "      <th>price</th>\n",
       "      <th>transmission</th>\n",
       "      <th>mileage</th>\n",
       "      <th>fuelType</th>\n",
       "      <th>tax</th>\n",
       "      <th>mpg</th>\n",
       "      <th>engineSize</th>\n",
       "    </tr>\n",
       "  </thead>\n",
       "  <tbody>\n",
       "    <tr>\n",
       "      <th>0</th>\n",
       "      <td>5 Series</td>\n",
       "      <td>2014</td>\n",
       "      <td>11200</td>\n",
       "      <td>Automatic</td>\n",
       "      <td>67068</td>\n",
       "      <td>Diesel</td>\n",
       "      <td>125</td>\n",
       "      <td>57.6</td>\n",
       "      <td>2.0</td>\n",
       "    </tr>\n",
       "    <tr>\n",
       "      <th>1</th>\n",
       "      <td>6 Series</td>\n",
       "      <td>2018</td>\n",
       "      <td>27000</td>\n",
       "      <td>Automatic</td>\n",
       "      <td>14827</td>\n",
       "      <td>Petrol</td>\n",
       "      <td>145</td>\n",
       "      <td>42.8</td>\n",
       "      <td>2.0</td>\n",
       "    </tr>\n",
       "    <tr>\n",
       "      <th>2</th>\n",
       "      <td>5 Series</td>\n",
       "      <td>2016</td>\n",
       "      <td>16000</td>\n",
       "      <td>Automatic</td>\n",
       "      <td>62794</td>\n",
       "      <td>Diesel</td>\n",
       "      <td>160</td>\n",
       "      <td>51.4</td>\n",
       "      <td>3.0</td>\n",
       "    </tr>\n",
       "    <tr>\n",
       "      <th>3</th>\n",
       "      <td>1 Series</td>\n",
       "      <td>2017</td>\n",
       "      <td>12750</td>\n",
       "      <td>Automatic</td>\n",
       "      <td>26676</td>\n",
       "      <td>Diesel</td>\n",
       "      <td>145</td>\n",
       "      <td>72.4</td>\n",
       "      <td>1.5</td>\n",
       "    </tr>\n",
       "    <tr>\n",
       "      <th>4</th>\n",
       "      <td>7 Series</td>\n",
       "      <td>2014</td>\n",
       "      <td>14500</td>\n",
       "      <td>Automatic</td>\n",
       "      <td>39554</td>\n",
       "      <td>Diesel</td>\n",
       "      <td>160</td>\n",
       "      <td>50.4</td>\n",
       "      <td>3.0</td>\n",
       "    </tr>\n",
       "  </tbody>\n",
       "</table>\n",
       "</div>"
      ],
      "text/plain": [
       "       model  year  price transmission  mileage fuelType  tax   mpg  \\\n",
       "0   5 Series  2014  11200    Automatic    67068   Diesel  125  57.6   \n",
       "1   6 Series  2018  27000    Automatic    14827   Petrol  145  42.8   \n",
       "2   5 Series  2016  16000    Automatic    62794   Diesel  160  51.4   \n",
       "3   1 Series  2017  12750    Automatic    26676   Diesel  145  72.4   \n",
       "4   7 Series  2014  14500    Automatic    39554   Diesel  160  50.4   \n",
       "\n",
       "   engineSize  \n",
       "0         2.0  \n",
       "1         2.0  \n",
       "2         3.0  \n",
       "3         1.5  \n",
       "4         3.0  "
      ]
     },
     "execution_count": 2,
     "metadata": {},
     "output_type": "execute_result"
    }
   ],
   "source": [
    "bmw=pd.read_csv(\"../input/used-car-dataset-ford-and-mercedes/bmw.csv\")\n",
    "bmw.head()"
   ]
  },
  {
   "cell_type": "code",
   "execution_count": 3,
   "id": "c613d5b5",
   "metadata": {
    "execution": {
     "iopub.execute_input": "2021-08-28T20:12:52.092201Z",
     "iopub.status.busy": "2021-08-28T20:12:52.088329Z",
     "iopub.status.idle": "2021-08-28T20:12:52.097198Z",
     "shell.execute_reply": "2021-08-28T20:12:52.096467Z",
     "shell.execute_reply.started": "2021-08-28T20:11:20.110067Z"
    },
    "papermill": {
     "duration": 0.036905,
     "end_time": "2021-08-28T20:12:52.097366",
     "exception": false,
     "start_time": "2021-08-28T20:12:52.060461",
     "status": "completed"
    },
    "tags": []
   },
   "outputs": [
    {
     "data": {
      "text/plain": [
       "model           0\n",
       "year            0\n",
       "price           0\n",
       "transmission    0\n",
       "mileage         0\n",
       "fuelType        0\n",
       "tax             0\n",
       "mpg             0\n",
       "engineSize      0\n",
       "dtype: int64"
      ]
     },
     "execution_count": 3,
     "metadata": {},
     "output_type": "execute_result"
    }
   ],
   "source": [
    "bmw.isnull().sum()"
   ]
  },
  {
   "cell_type": "code",
   "execution_count": 4,
   "id": "a8f92f0c",
   "metadata": {
    "execution": {
     "iopub.execute_input": "2021-08-28T20:12:52.143684Z",
     "iopub.status.busy": "2021-08-28T20:12:52.142810Z",
     "iopub.status.idle": "2021-08-28T20:12:52.146701Z",
     "shell.execute_reply": "2021-08-28T20:12:52.146018Z",
     "shell.execute_reply.started": "2021-08-28T20:11:22.136790Z"
    },
    "papermill": {
     "duration": 0.029819,
     "end_time": "2021-08-28T20:12:52.146851",
     "exception": false,
     "start_time": "2021-08-28T20:12:52.117032",
     "status": "completed"
    },
    "tags": []
   },
   "outputs": [
    {
     "data": {
      "text/plain": [
       "(10781, 9)"
      ]
     },
     "execution_count": 4,
     "metadata": {},
     "output_type": "execute_result"
    }
   ],
   "source": [
    "bmw.shape"
   ]
  },
  {
   "cell_type": "code",
   "execution_count": 5,
   "id": "da39f9c2",
   "metadata": {
    "execution": {
     "iopub.execute_input": "2021-08-28T20:12:52.193872Z",
     "iopub.status.busy": "2021-08-28T20:12:52.192545Z",
     "iopub.status.idle": "2021-08-28T20:12:52.201464Z",
     "shell.execute_reply": "2021-08-28T20:12:52.201940Z",
     "shell.execute_reply.started": "2021-08-28T20:11:23.843275Z"
    },
    "papermill": {
     "duration": 0.032731,
     "end_time": "2021-08-28T20:12:52.202179",
     "exception": false,
     "start_time": "2021-08-28T20:12:52.169448",
     "status": "completed"
    },
    "tags": []
   },
   "outputs": [
    {
     "data": {
      "text/plain": [
       "model            object\n",
       "year              int64\n",
       "price             int64\n",
       "transmission     object\n",
       "mileage           int64\n",
       "fuelType         object\n",
       "tax               int64\n",
       "mpg             float64\n",
       "engineSize      float64\n",
       "dtype: object"
      ]
     },
     "execution_count": 5,
     "metadata": {},
     "output_type": "execute_result"
    }
   ],
   "source": [
    "bmw.dtypes"
   ]
  },
  {
   "cell_type": "code",
   "execution_count": 6,
   "id": "0dfa8066",
   "metadata": {
    "execution": {
     "iopub.execute_input": "2021-08-28T20:12:52.259280Z",
     "iopub.status.busy": "2021-08-28T20:12:52.258222Z",
     "iopub.status.idle": "2021-08-28T20:12:52.263038Z",
     "shell.execute_reply": "2021-08-28T20:12:52.262460Z",
     "shell.execute_reply.started": "2021-08-28T20:11:24.867341Z"
    },
    "papermill": {
     "duration": 0.040819,
     "end_time": "2021-08-28T20:12:52.263199",
     "exception": false,
     "start_time": "2021-08-28T20:12:52.222380",
     "status": "completed"
    },
    "tags": []
   },
   "outputs": [
    {
     "data": {
      "text/plain": [
       "<bound method NDFrame.describe of            model  year  price transmission  mileage fuelType  tax   mpg  \\\n",
       "0       5 Series  2014  11200    Automatic    67068   Diesel  125  57.6   \n",
       "1       6 Series  2018  27000    Automatic    14827   Petrol  145  42.8   \n",
       "2       5 Series  2016  16000    Automatic    62794   Diesel  160  51.4   \n",
       "3       1 Series  2017  12750    Automatic    26676   Diesel  145  72.4   \n",
       "4       7 Series  2014  14500    Automatic    39554   Diesel  160  50.4   \n",
       "...          ...   ...    ...          ...      ...      ...  ...   ...   \n",
       "10776         X3  2016  19000    Automatic    40818   Diesel  150  54.3   \n",
       "10777   5 Series  2016  14600    Automatic    42947   Diesel  125  60.1   \n",
       "10778   3 Series  2017  13100       Manual    25468   Petrol  200  42.8   \n",
       "10779   1 Series  2014   9930    Automatic    45000   Diesel   30  64.2   \n",
       "10780         X1  2017  15981    Automatic    59432   Diesel  125  57.6   \n",
       "\n",
       "       engineSize  \n",
       "0             2.0  \n",
       "1             2.0  \n",
       "2             3.0  \n",
       "3             1.5  \n",
       "4             3.0  \n",
       "...           ...  \n",
       "10776         2.0  \n",
       "10777         2.0  \n",
       "10778         2.0  \n",
       "10779         2.0  \n",
       "10780         2.0  \n",
       "\n",
       "[10781 rows x 9 columns]>"
      ]
     },
     "execution_count": 6,
     "metadata": {},
     "output_type": "execute_result"
    }
   ],
   "source": [
    "bmw.describe"
   ]
  },
  {
   "cell_type": "code",
   "execution_count": 7,
   "id": "ad4cb130",
   "metadata": {
    "execution": {
     "iopub.execute_input": "2021-08-28T20:12:52.306590Z",
     "iopub.status.busy": "2021-08-28T20:12:52.305915Z",
     "iopub.status.idle": "2021-08-28T20:12:52.319052Z",
     "shell.execute_reply": "2021-08-28T20:12:52.319569Z",
     "shell.execute_reply.started": "2021-08-28T20:11:25.978969Z"
    },
    "papermill": {
     "duration": 0.036543,
     "end_time": "2021-08-28T20:12:52.319740",
     "exception": false,
     "start_time": "2021-08-28T20:12:52.283197",
     "status": "completed"
    },
    "tags": []
   },
   "outputs": [
    {
     "data": {
      "text/plain": [
       "<bound method DataFrame.info of            model  year  price transmission  mileage fuelType  tax   mpg  \\\n",
       "0       5 Series  2014  11200    Automatic    67068   Diesel  125  57.6   \n",
       "1       6 Series  2018  27000    Automatic    14827   Petrol  145  42.8   \n",
       "2       5 Series  2016  16000    Automatic    62794   Diesel  160  51.4   \n",
       "3       1 Series  2017  12750    Automatic    26676   Diesel  145  72.4   \n",
       "4       7 Series  2014  14500    Automatic    39554   Diesel  160  50.4   \n",
       "...          ...   ...    ...          ...      ...      ...  ...   ...   \n",
       "10776         X3  2016  19000    Automatic    40818   Diesel  150  54.3   \n",
       "10777   5 Series  2016  14600    Automatic    42947   Diesel  125  60.1   \n",
       "10778   3 Series  2017  13100       Manual    25468   Petrol  200  42.8   \n",
       "10779   1 Series  2014   9930    Automatic    45000   Diesel   30  64.2   \n",
       "10780         X1  2017  15981    Automatic    59432   Diesel  125  57.6   \n",
       "\n",
       "       engineSize  \n",
       "0             2.0  \n",
       "1             2.0  \n",
       "2             3.0  \n",
       "3             1.5  \n",
       "4             3.0  \n",
       "...           ...  \n",
       "10776         2.0  \n",
       "10777         2.0  \n",
       "10778         2.0  \n",
       "10779         2.0  \n",
       "10780         2.0  \n",
       "\n",
       "[10781 rows x 9 columns]>"
      ]
     },
     "execution_count": 7,
     "metadata": {},
     "output_type": "execute_result"
    }
   ],
   "source": [
    "bmw.info"
   ]
  },
  {
   "cell_type": "code",
   "execution_count": 8,
   "id": "4ccdbf22",
   "metadata": {
    "execution": {
     "iopub.execute_input": "2021-08-28T20:12:52.363781Z",
     "iopub.status.busy": "2021-08-28T20:12:52.363040Z",
     "iopub.status.idle": "2021-08-28T20:12:52.377737Z",
     "shell.execute_reply": "2021-08-28T20:12:52.377232Z",
     "shell.execute_reply.started": "2021-08-28T20:11:27.112987Z"
    },
    "papermill": {
     "duration": 0.037702,
     "end_time": "2021-08-28T20:12:52.377880",
     "exception": false,
     "start_time": "2021-08-28T20:12:52.340178",
     "status": "completed"
    },
    "tags": []
   },
   "outputs": [
    {
     "data": {
      "text/plain": [
       "{0: ' 1 Series',\n",
       " 1: ' 2 Series',\n",
       " 2: ' 3 Series',\n",
       " 3: ' 4 Series',\n",
       " 4: ' 5 Series',\n",
       " 5: ' 6 Series',\n",
       " 6: ' 7 Series',\n",
       " 7: ' 8 Series',\n",
       " 8: ' M2',\n",
       " 9: ' M3',\n",
       " 10: ' M4',\n",
       " 11: ' M5',\n",
       " 12: ' M6',\n",
       " 13: ' X1',\n",
       " 14: ' X2',\n",
       " 15: ' X3',\n",
       " 16: ' X4',\n",
       " 17: ' X5',\n",
       " 18: ' X6',\n",
       " 19: ' X7',\n",
       " 20: ' Z3',\n",
       " 21: ' Z4',\n",
       " 22: ' i3',\n",
       " 23: ' i8'}"
      ]
     },
     "execution_count": 8,
     "metadata": {},
     "output_type": "execute_result"
    }
   ],
   "source": [
    "encoder = LabelEncoder()\n",
    "bmw['model'] = encoder.fit_transform(bmw['model'])\n",
    "model_mapping = {index : label for index, label in enumerate(encoder.classes_)}\n",
    "model_mapping"
   ]
  },
  {
   "cell_type": "code",
   "execution_count": 9,
   "id": "2abe0238",
   "metadata": {
    "execution": {
     "iopub.execute_input": "2021-08-28T20:12:52.422164Z",
     "iopub.status.busy": "2021-08-28T20:12:52.421526Z",
     "iopub.status.idle": "2021-08-28T20:12:52.433249Z",
     "shell.execute_reply": "2021-08-28T20:12:52.432579Z",
     "shell.execute_reply.started": "2021-08-28T20:11:28.268894Z"
    },
    "papermill": {
     "duration": 0.034914,
     "end_time": "2021-08-28T20:12:52.433406",
     "exception": false,
     "start_time": "2021-08-28T20:12:52.398492",
     "status": "completed"
    },
    "tags": []
   },
   "outputs": [
    {
     "data": {
      "text/plain": [
       "{0: 'Automatic', 1: 'Manual', 2: 'Semi-Auto'}"
      ]
     },
     "execution_count": 9,
     "metadata": {},
     "output_type": "execute_result"
    }
   ],
   "source": [
    "bmw['transmission'] = encoder.fit_transform(bmw['transmission'])\n",
    "transmission_mapping = {index : label for index, label in enumerate(encoder.classes_)}\n",
    "transmission_mapping"
   ]
  },
  {
   "cell_type": "code",
   "execution_count": 10,
   "id": "2295772b",
   "metadata": {
    "execution": {
     "iopub.execute_input": "2021-08-28T20:12:52.487185Z",
     "iopub.status.busy": "2021-08-28T20:12:52.486168Z",
     "iopub.status.idle": "2021-08-28T20:12:52.490595Z",
     "shell.execute_reply": "2021-08-28T20:12:52.489930Z",
     "shell.execute_reply.started": "2021-08-28T20:11:29.323493Z"
    },
    "papermill": {
     "duration": 0.03621,
     "end_time": "2021-08-28T20:12:52.490739",
     "exception": false,
     "start_time": "2021-08-28T20:12:52.454529",
     "status": "completed"
    },
    "tags": []
   },
   "outputs": [
    {
     "data": {
      "text/plain": [
       "{0: 'Diesel', 1: 'Electric', 2: 'Hybrid', 3: 'Other', 4: 'Petrol'}"
      ]
     },
     "execution_count": 10,
     "metadata": {},
     "output_type": "execute_result"
    }
   ],
   "source": [
    "bmw['fuelType'] = encoder.fit_transform(bmw['fuelType'])\n",
    "fuelType_mapping = {index : label for index, label in enumerate(encoder.classes_)}\n",
    "fuelType_mapping"
   ]
  },
  {
   "cell_type": "code",
   "execution_count": 11,
   "id": "482d1df8",
   "metadata": {
    "execution": {
     "iopub.execute_input": "2021-08-28T20:12:52.539041Z",
     "iopub.status.busy": "2021-08-28T20:12:52.538346Z",
     "iopub.status.idle": "2021-08-28T20:12:52.543454Z",
     "shell.execute_reply": "2021-08-28T20:12:52.542745Z",
     "shell.execute_reply.started": "2021-08-28T20:11:31.457010Z"
    },
    "papermill": {
     "duration": 0.031638,
     "end_time": "2021-08-28T20:12:52.543601",
     "exception": false,
     "start_time": "2021-08-28T20:12:52.511963",
     "status": "completed"
    },
    "tags": []
   },
   "outputs": [],
   "source": [
    "x = bmw.drop('price', axis=1)\n",
    "y = bmw['price']"
   ]
  },
  {
   "cell_type": "markdown",
   "id": "bfdc7638",
   "metadata": {
    "papermill": {
     "duration": 0.021518,
     "end_time": "2021-08-28T20:12:52.586341",
     "exception": false,
     "start_time": "2021-08-28T20:12:52.564823",
     "status": "completed"
    },
    "tags": []
   },
   "source": [
    "APLYING MINMAXSCALAR\n"
   ]
  },
  {
   "cell_type": "code",
   "execution_count": 12,
   "id": "2e861612",
   "metadata": {
    "execution": {
     "iopub.execute_input": "2021-08-28T20:12:52.636560Z",
     "iopub.status.busy": "2021-08-28T20:12:52.635848Z",
     "iopub.status.idle": "2021-08-28T20:12:52.647005Z",
     "shell.execute_reply": "2021-08-28T20:12:52.647504Z",
     "shell.execute_reply.started": "2021-08-28T20:11:51.869140Z"
    },
    "papermill": {
     "duration": 0.040031,
     "end_time": "2021-08-28T20:12:52.647696",
     "exception": false,
     "start_time": "2021-08-28T20:12:52.607665",
     "status": "completed"
    },
    "tags": []
   },
   "outputs": [
    {
     "name": "stdout",
     "output_type": "stream",
     "text": [
      "x \n",
      " [[0.17391304 0.75       0.         0.31339866 0.         0.21551724\n",
      "  0.11197077 0.3030303 ]\n",
      " [0.2173913  0.91666667 0.         0.0692807  1.         0.25\n",
      "  0.08016334 0.3030303 ]\n",
      " [0.17391304 0.83333333 0.         0.2934266  0.         0.27586207\n",
      "  0.09864603 0.45454545]\n",
      " [0.         0.875      0.         0.12465012 0.         0.25\n",
      "  0.14377821 0.22727273]\n",
      " [0.26086957 0.75       0.         0.18482797 0.         0.27586207\n",
      "  0.09649688 0.45454545]\n",
      " [0.17391304 0.83333333 0.         0.16499143 0.         0.21551724\n",
      "  0.11734365 0.3030303 ]\n",
      " [0.17391304 0.875      0.         0.18008028 0.         0.21551724\n",
      "  0.11734365 0.3030303 ]\n",
      " [0.04347826 0.91666667 0.5        0.04859836 1.         0.25\n",
      "  0.10058027 0.22727273]\n",
      " [0.13043478 0.875      0.5        0.19937944 0.         0.05172414\n",
      "  0.12314636 0.3030303 ]\n",
      " [0.17391304 0.83333333 0.         0.16868303 0.         0.03448276\n",
      "  0.13625618 0.3030303 ]]\n",
      "y \n",
      " 0    11200\n",
      "1    27000\n",
      "2    16000\n",
      "3    12750\n",
      "4    14500\n",
      "5    14900\n",
      "6    16000\n",
      "7    16250\n",
      "8    14250\n",
      "9    14250\n",
      "Name: price, dtype: int64\n"
     ]
    }
   ],
   "source": [
    "scaler = MinMaxScaler(copy=True, feature_range=(0, 1))\n",
    "X = scaler.fit_transform(x)\n",
    "\n",
    "#showing data\n",
    "print('x \\n' , X[:10])\n",
    "print('y \\n' , y[:10])"
   ]
  },
  {
   "cell_type": "code",
   "execution_count": 13,
   "id": "44b46ba8",
   "metadata": {
    "execution": {
     "iopub.execute_input": "2021-08-28T20:12:52.700329Z",
     "iopub.status.busy": "2021-08-28T20:12:52.699516Z",
     "iopub.status.idle": "2021-08-28T20:12:52.703693Z",
     "shell.execute_reply": "2021-08-28T20:12:52.703124Z",
     "shell.execute_reply.started": "2021-08-28T20:11:59.043325Z"
    },
    "papermill": {
     "duration": 0.034161,
     "end_time": "2021-08-28T20:12:52.703838",
     "exception": false,
     "start_time": "2021-08-28T20:12:52.669677",
     "status": "completed"
    },
    "tags": []
   },
   "outputs": [],
   "source": [
    "x_train,x_test,y_train,y_test=train_test_split(x,y,test_size=30,random_state=0)"
   ]
  },
  {
   "cell_type": "code",
   "execution_count": 14,
   "id": "3eac645b",
   "metadata": {
    "execution": {
     "iopub.execute_input": "2021-08-28T20:12:52.752702Z",
     "iopub.status.busy": "2021-08-28T20:12:52.752039Z",
     "iopub.status.idle": "2021-08-28T20:12:52.755376Z",
     "shell.execute_reply": "2021-08-28T20:12:52.754840Z",
     "shell.execute_reply.started": "2021-08-28T20:12:04.447853Z"
    },
    "papermill": {
     "duration": 0.029638,
     "end_time": "2021-08-28T20:12:52.755515",
     "exception": false,
     "start_time": "2021-08-28T20:12:52.725877",
     "status": "completed"
    },
    "tags": []
   },
   "outputs": [
    {
     "name": "stdout",
     "output_type": "stream",
     "text": [
      "x_train shape is: (10751, 8)\n"
     ]
    }
   ],
   "source": [
    "print(\"x_train shape is:\",x_train.shape)"
   ]
  },
  {
   "cell_type": "code",
   "execution_count": 15,
   "id": "afa95887",
   "metadata": {
    "execution": {
     "iopub.execute_input": "2021-08-28T20:12:52.805639Z",
     "iopub.status.busy": "2021-08-28T20:12:52.804975Z",
     "iopub.status.idle": "2021-08-28T20:12:52.809182Z",
     "shell.execute_reply": "2021-08-28T20:12:52.808621Z",
     "shell.execute_reply.started": "2021-08-28T20:12:06.765871Z"
    },
    "papermill": {
     "duration": 0.031535,
     "end_time": "2021-08-28T20:12:52.809327",
     "exception": false,
     "start_time": "2021-08-28T20:12:52.777792",
     "status": "completed"
    },
    "tags": []
   },
   "outputs": [
    {
     "name": "stdout",
     "output_type": "stream",
     "text": [
      "x_test shape is: (30, 8)\n"
     ]
    }
   ],
   "source": [
    "print(\"x_test shape is:\",x_test.shape)"
   ]
  },
  {
   "cell_type": "code",
   "execution_count": 16,
   "id": "eaaf4fe2",
   "metadata": {
    "execution": {
     "iopub.execute_input": "2021-08-28T20:12:52.858431Z",
     "iopub.status.busy": "2021-08-28T20:12:52.857769Z",
     "iopub.status.idle": "2021-08-28T20:12:52.861427Z",
     "shell.execute_reply": "2021-08-28T20:12:52.861913Z",
     "shell.execute_reply.started": "2021-08-28T20:12:08.529706Z"
    },
    "papermill": {
     "duration": 0.030524,
     "end_time": "2021-08-28T20:12:52.862097",
     "exception": false,
     "start_time": "2021-08-28T20:12:52.831573",
     "status": "completed"
    },
    "tags": []
   },
   "outputs": [
    {
     "name": "stdout",
     "output_type": "stream",
     "text": [
      "y_train shape is: (10751,)\n"
     ]
    }
   ],
   "source": [
    "print(\"y_train shape is:\",y_train.shape)"
   ]
  },
  {
   "cell_type": "code",
   "execution_count": 17,
   "id": "5cb3adfa",
   "metadata": {
    "execution": {
     "iopub.execute_input": "2021-08-28T20:12:52.913251Z",
     "iopub.status.busy": "2021-08-28T20:12:52.912334Z",
     "iopub.status.idle": "2021-08-28T20:12:52.915936Z",
     "shell.execute_reply": "2021-08-28T20:12:52.916653Z",
     "shell.execute_reply.started": "2021-08-28T20:12:10.665682Z"
    },
    "papermill": {
     "duration": 0.031761,
     "end_time": "2021-08-28T20:12:52.916875",
     "exception": false,
     "start_time": "2021-08-28T20:12:52.885114",
     "status": "completed"
    },
    "tags": []
   },
   "outputs": [
    {
     "name": "stdout",
     "output_type": "stream",
     "text": [
      "y_test shape is: (30,)\n"
     ]
    }
   ],
   "source": [
    "print(\"y_test shape is:\",y_test.shape)"
   ]
  },
  {
   "cell_type": "code",
   "execution_count": 18,
   "id": "d1cba5df",
   "metadata": {
    "execution": {
     "iopub.execute_input": "2021-08-28T20:12:52.973571Z",
     "iopub.status.busy": "2021-08-28T20:12:52.972863Z",
     "iopub.status.idle": "2021-08-28T20:12:52.998513Z",
     "shell.execute_reply": "2021-08-28T20:12:52.997968Z",
     "shell.execute_reply.started": "2021-08-28T20:12:12.964293Z"
    },
    "papermill": {
     "duration": 0.056524,
     "end_time": "2021-08-28T20:12:52.998667",
     "exception": false,
     "start_time": "2021-08-28T20:12:52.942143",
     "status": "completed"
    },
    "tags": []
   },
   "outputs": [
    {
     "name": "stdout",
     "output_type": "stream",
     "text": [
      "DecisionTreeRegressor Train Score is :  0.7622933411455348\n",
      "DecisionTreeRegressor Test Score is :  0.8178940445009076\n",
      "----------------------------------------------------\n",
      "Predicted Value for DecisionTreeRegressorModel is :  [23019.89767442 34391.2875     23019.89767442 34391.2875\n",
      " 29376.64228786 52123.35155096 11724.77095293 16975.68794109\n",
      " 11724.77095293 28720.66064257]\n"
     ]
    }
   ],
   "source": [
    "DecisionTreeRegressorModel = DecisionTreeRegressor( max_depth=3,random_state=33)\n",
    "DecisionTreeRegressorModel.fit(x_train, y_train)\n",
    "\n",
    "print('DecisionTreeRegressor Train Score is : ' , DecisionTreeRegressorModel.score(x_train, y_train))\n",
    "print('DecisionTreeRegressor Test Score is : ' , DecisionTreeRegressorModel.score(x_test, y_test))\n",
    "print('----------------------------------------------------')\n",
    "\n",
    "y_pred = DecisionTreeRegressorModel.predict(x_test)\n",
    "print('Predicted Value for DecisionTreeRegressorModel is : ' , y_pred[:10])"
   ]
  },
  {
   "cell_type": "code",
   "execution_count": 19,
   "id": "0296bc50",
   "metadata": {
    "execution": {
     "iopub.execute_input": "2021-08-28T20:12:53.055941Z",
     "iopub.status.busy": "2021-08-28T20:12:53.054947Z",
     "iopub.status.idle": "2021-08-28T20:12:53.899362Z",
     "shell.execute_reply": "2021-08-28T20:12:53.900030Z",
     "shell.execute_reply.started": "2021-08-28T20:12:18.659196Z"
    },
    "papermill": {
     "duration": 0.877942,
     "end_time": "2021-08-28T20:12:53.900292",
     "exception": false,
     "start_time": "2021-08-28T20:12:53.022350",
     "status": "completed"
    },
    "tags": []
   },
   "outputs": [
    {
     "name": "stdout",
     "output_type": "stream",
     "text": [
      "Random Forest Regressor Train Score is :  0.770075979230054\n",
      "Random Forest Regressor Test Score is :  0.8131687481308656\n",
      "Random Forest Regressor No. of features are :  8\n",
      "----------------------------------------------------\n",
      "Predicted Value for Random Forest Regressor is :  [23028.93974895 34370.14608918 23028.93974895 34370.14608918\n",
      " 29379.82885211 52109.25950592 11866.14451188 17149.84834545\n",
      " 11866.14451188 28678.36164142]\n"
     ]
    }
   ],
   "source": [
    "RandomForestRegressorModel = RandomForestRegressor(n_estimators=100,max_depth=3, random_state=33)\n",
    "RandomForestRegressorModel.fit(x_train, y_train)\n",
    "\n",
    "print('Random Forest Regressor Train Score is : ' , RandomForestRegressorModel.score(x_train, y_train))\n",
    "print('Random Forest Regressor Test Score is : ' , RandomForestRegressorModel.score(x_test, y_test))\n",
    "print('Random Forest Regressor No. of features are : ' , RandomForestRegressorModel.n_features_)\n",
    "print('----------------------------------------------------')\n",
    "\n",
    "y_pred = RandomForestRegressorModel.predict(x_test)\n",
    "print('Predicted Value for Random Forest Regressor is : ' , y_pred[:10])\n"
   ]
  },
  {
   "cell_type": "code",
   "execution_count": 20,
   "id": "7db995b1",
   "metadata": {
    "execution": {
     "iopub.execute_input": "2021-08-28T20:12:53.953709Z",
     "iopub.status.busy": "2021-08-28T20:12:53.952947Z",
     "iopub.status.idle": "2021-08-28T20:12:53.957291Z",
     "shell.execute_reply": "2021-08-28T20:12:53.956673Z",
     "shell.execute_reply.started": "2021-08-28T20:12:25.338666Z"
    },
    "papermill": {
     "duration": 0.032969,
     "end_time": "2021-08-28T20:12:53.957443",
     "exception": false,
     "start_time": "2021-08-28T20:12:53.924474",
     "status": "completed"
    },
    "tags": []
   },
   "outputs": [
    {
     "name": "stdout",
     "output_type": "stream",
     "text": [
      "Mean Squared Error Value is :  16023218.087162485\n"
     ]
    }
   ],
   "source": [
    "MSEValue = mean_squared_error(y_test, y_pred, multioutput='uniform_average') # it can be raw_values\n",
    "print('Mean Squared Error Value is : ', MSEValue)\n"
   ]
  },
  {
   "cell_type": "code",
   "execution_count": null,
   "id": "6bc13f60",
   "metadata": {
    "papermill": {
     "duration": 0.024329,
     "end_time": "2021-08-28T20:12:54.006386",
     "exception": false,
     "start_time": "2021-08-28T20:12:53.982057",
     "status": "completed"
    },
    "tags": []
   },
   "outputs": [],
   "source": []
  }
 ],
 "metadata": {
  "kernelspec": {
   "display_name": "Python 3",
   "language": "python",
   "name": "python3"
  },
  "language_info": {
   "codemirror_mode": {
    "name": "ipython",
    "version": 3
   },
   "file_extension": ".py",
   "mimetype": "text/x-python",
   "name": "python",
   "nbconvert_exporter": "python",
   "pygments_lexer": "ipython3",
   "version": "3.7.10"
  },
  "papermill": {
   "default_parameters": {},
   "duration": 12.782125,
   "end_time": "2021-08-28T20:12:54.742037",
   "environment_variables": {},
   "exception": null,
   "input_path": "__notebook__.ipynb",
   "output_path": "__notebook__.ipynb",
   "parameters": {},
   "start_time": "2021-08-28T20:12:41.959912",
   "version": "2.3.3"
  }
 },
 "nbformat": 4,
 "nbformat_minor": 5
}
